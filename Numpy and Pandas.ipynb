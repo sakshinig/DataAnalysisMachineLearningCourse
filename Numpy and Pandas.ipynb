{
 "cells": [
  {
   "cell_type": "markdown",
   "id": "81c6c874",
   "metadata": {},
   "source": [
    "# Numpy"
   ]
  },
  {
   "cell_type": "markdown",
   "id": "835b787d",
   "metadata": {},
   "source": [
    "Numpy Arrays"
   ]
  },
  {
   "cell_type": "code",
   "execution_count": 1,
   "id": "1332843a",
   "metadata": {},
   "outputs": [],
   "source": [
    "my_list = [1, 2, 3] # reuglar python list"
   ]
  },
  {
   "cell_type": "code",
   "execution_count": 2,
   "id": "2f1661cc",
   "metadata": {},
   "outputs": [
    {
     "data": {
      "text/plain": [
       "[1, 2, 3]"
      ]
     },
     "execution_count": 2,
     "metadata": {},
     "output_type": "execute_result"
    }
   ],
   "source": [
    "my_list"
   ]
  },
  {
   "cell_type": "code",
   "execution_count": 3,
   "id": "947d97d6",
   "metadata": {},
   "outputs": [],
   "source": [
    "import numpy as np"
   ]
  },
  {
   "cell_type": "code",
   "execution_count": 4,
   "id": "dc68eef5",
   "metadata": {},
   "outputs": [
    {
     "data": {
      "text/plain": [
       "array([1, 2, 3])"
      ]
     },
     "execution_count": 4,
     "metadata": {},
     "output_type": "execute_result"
    }
   ],
   "source": [
    "np.array(my_list) # turning the list into a numpy array"
   ]
  },
  {
   "cell_type": "code",
   "execution_count": 5,
   "id": "0cfdfe40",
   "metadata": {},
   "outputs": [],
   "source": [
    "my_mat = [[1, 2, 3], [4, 5, 6], [7, 8, 9]] # 2D np array"
   ]
  },
  {
   "cell_type": "code",
   "execution_count": 6,
   "id": "8909fb0f",
   "metadata": {},
   "outputs": [
    {
     "data": {
      "text/plain": [
       "[[1, 2, 3], [4, 5, 6], [7, 8, 9]]"
      ]
     },
     "execution_count": 6,
     "metadata": {},
     "output_type": "execute_result"
    }
   ],
   "source": [
    "my_mat"
   ]
  },
  {
   "cell_type": "code",
   "execution_count": 7,
   "id": "5c8ca432",
   "metadata": {},
   "outputs": [
    {
     "data": {
      "text/plain": [
       "array([[1, 2, 3],\n",
       "       [4, 5, 6],\n",
       "       [7, 8, 9]])"
      ]
     },
     "execution_count": 7,
     "metadata": {},
     "output_type": "execute_result"
    }
   ],
   "source": [
    "np.array(my_mat)"
   ]
  },
  {
   "cell_type": "markdown",
   "id": "ad178128",
   "metadata": {},
   "source": [
    "np.arange(start, stop, step)"
   ]
  },
  {
   "cell_type": "code",
   "execution_count": 25,
   "id": "76b572a1",
   "metadata": {},
   "outputs": [
    {
     "data": {
      "text/plain": [
       "array([0, 2, 4, 6, 8])"
      ]
     },
     "execution_count": 25,
     "metadata": {},
     "output_type": "execute_result"
    }
   ],
   "source": [
    "np.arange(0, 10, 2)"
   ]
  },
  {
   "cell_type": "code",
   "execution_count": 10,
   "id": "431b1d64",
   "metadata": {},
   "outputs": [
    {
     "data": {
      "text/plain": [
       "array([1, 2, 3])"
      ]
     },
     "execution_count": 10,
     "metadata": {},
     "output_type": "execute_result"
    }
   ],
   "source": [
    "np.arange(1,4,1)"
   ]
  },
  {
   "cell_type": "code",
   "execution_count": 13,
   "id": "8b6a49cc",
   "metadata": {},
   "outputs": [
    {
     "data": {
      "text/plain": [
       "array([1., 1., 1., 1., 1.])"
      ]
     },
     "execution_count": 13,
     "metadata": {},
     "output_type": "execute_result"
    }
   ],
   "source": [
    "np.ones(5)"
   ]
  },
  {
   "cell_type": "code",
   "execution_count": 17,
   "id": "d3664e2f",
   "metadata": {},
   "outputs": [
    {
     "data": {
      "text/plain": [
       "array([[0., 0., 0., 0., 0.],\n",
       "       [0., 0., 0., 0., 0.],\n",
       "       [0., 0., 0., 0., 0.],\n",
       "       [0., 0., 0., 0., 0.],\n",
       "       [0., 0., 0., 0., 0.]])"
      ]
     },
     "execution_count": 17,
     "metadata": {},
     "output_type": "execute_result"
    }
   ],
   "source": [
    "np.zeros((5, 5))"
   ]
  },
  {
   "cell_type": "markdown",
   "id": "453ea905",
   "metadata": {},
   "source": [
    "np.linspace(start, stop, num)"
   ]
  },
  {
   "cell_type": "code",
   "execution_count": 27,
   "id": "3ccc3856",
   "metadata": {},
   "outputs": [
    {
     "data": {
      "text/plain": [
       "array([0. , 0.2, 0.4, 0.6, 0.8, 1. ])"
      ]
     },
     "execution_count": 27,
     "metadata": {},
     "output_type": "execute_result"
    }
   ],
   "source": [
    "np.linspace(0, 1, 6)"
   ]
  },
  {
   "cell_type": "markdown",
   "id": "3b51a4a4",
   "metadata": {},
   "source": [
    "NOTE: \n",
    "\n",
    "The difference between np.arange() and np.linspace() is the 3rd parameter. For np.arange(), it is \"step\". Think of skip counting. The \"step\" is the number that you are skip counting by starting form the start value until (not including) the stop value. \n",
    "\n",
    "np.linspace() has the third parameter as the number of evenly-spaced values in between the start and the stop value, including both."
   ]
  },
  {
   "cell_type": "code",
   "execution_count": 22,
   "id": "208857b3",
   "metadata": {},
   "outputs": [
    {
     "data": {
      "text/plain": [
       "array([[1., 0., 0.],\n",
       "       [0., 1., 0.],\n",
       "       [0., 0., 1.]])"
      ]
     },
     "execution_count": 22,
     "metadata": {},
     "output_type": "execute_result"
    }
   ],
   "source": [
    "np.eye(3)"
   ]
  },
  {
   "cell_type": "code",
   "execution_count": 31,
   "id": "a76d2ab7",
   "metadata": {},
   "outputs": [
    {
     "data": {
      "text/plain": [
       "array([[0.51916172, 0.94486696, 0.00364422, 0.54858218, 0.93479051],\n",
       "       [0.16696769, 0.92551965, 0.66071896, 0.11281472, 0.76095775],\n",
       "       [0.70678829, 0.01456446, 0.34879645, 0.45345279, 0.97883868],\n",
       "       [0.86658694, 0.35187867, 0.8484185 , 0.66860385, 0.89075118],\n",
       "       [0.14930551, 0.28693715, 0.99735325, 0.68421317, 0.84272386]])"
      ]
     },
     "execution_count": 31,
     "metadata": {},
     "output_type": "execute_result"
    }
   ],
   "source": [
    "np.random.rand(5,5)"
   ]
  },
  {
   "cell_type": "code",
   "execution_count": 68,
   "id": "9ab97ed5",
   "metadata": {},
   "outputs": [],
   "source": [
    "arr = np.random.randint(1,100,10)"
   ]
  },
  {
   "cell_type": "code",
   "execution_count": 70,
   "id": "ce928565",
   "metadata": {},
   "outputs": [],
   "source": [
    "arr = arr.reshape(5, 2)"
   ]
  },
  {
   "cell_type": "code",
   "execution_count": 72,
   "id": "136ecc3a",
   "metadata": {},
   "outputs": [
    {
     "data": {
      "text/plain": [
       "95"
      ]
     },
     "execution_count": 72,
     "metadata": {},
     "output_type": "execute_result"
    }
   ],
   "source": [
    "arr.max()"
   ]
  },
  {
   "cell_type": "code",
   "execution_count": 73,
   "id": "742b1da9",
   "metadata": {},
   "outputs": [
    {
     "data": {
      "text/plain": [
       "3"
      ]
     },
     "execution_count": 73,
     "metadata": {},
     "output_type": "execute_result"
    }
   ],
   "source": [
    "arr.min()"
   ]
  },
  {
   "cell_type": "code",
   "execution_count": 74,
   "id": "5045c42b",
   "metadata": {},
   "outputs": [
    {
     "data": {
      "text/plain": [
       "9"
      ]
     },
     "execution_count": 74,
     "metadata": {},
     "output_type": "execute_result"
    }
   ],
   "source": [
    "arr.argmax()"
   ]
  },
  {
   "cell_type": "code",
   "execution_count": 75,
   "id": "9c4a1975",
   "metadata": {},
   "outputs": [
    {
     "data": {
      "text/plain": [
       "1"
      ]
     },
     "execution_count": 75,
     "metadata": {},
     "output_type": "execute_result"
    }
   ],
   "source": [
    "arr.argmin()"
   ]
  },
  {
   "cell_type": "code",
   "execution_count": 76,
   "id": "76ae9778",
   "metadata": {},
   "outputs": [
    {
     "data": {
      "text/plain": [
       "dtype('int32')"
      ]
     },
     "execution_count": 76,
     "metadata": {},
     "output_type": "execute_result"
    }
   ],
   "source": [
    "arr.dtype"
   ]
  },
  {
   "cell_type": "code",
   "execution_count": 77,
   "id": "4a90c9ee",
   "metadata": {},
   "outputs": [
    {
     "data": {
      "text/plain": [
       "(5, 2)"
      ]
     },
     "execution_count": 77,
     "metadata": {},
     "output_type": "execute_result"
    }
   ],
   "source": [
    "arr.shape"
   ]
  },
  {
   "cell_type": "code",
   "execution_count": 78,
   "id": "de5db60a",
   "metadata": {},
   "outputs": [
    {
     "data": {
      "text/plain": [
       "array([[76,  3],\n",
       "       [81, 47],\n",
       "       [ 5, 39],\n",
       "       [11, 77],\n",
       "       [84, 95]])"
      ]
     },
     "execution_count": 78,
     "metadata": {},
     "output_type": "execute_result"
    }
   ],
   "source": [
    "arr"
   ]
  },
  {
   "cell_type": "markdown",
   "id": "4cae9359",
   "metadata": {},
   "source": [
    "# Pandas "
   ]
  },
  {
   "cell_type": "markdown",
   "id": "b3ca7b82",
   "metadata": {},
   "source": [
    "- Series\n",
    "- DataFrames\n",
    "- Missing Data\n",
    "- Merging, Joining, and Concatenating\n",
    "- Operations\n",
    "- Data input and output"
   ]
  },
  {
   "cell_type": "code",
   "execution_count": 79,
   "id": "65126601",
   "metadata": {},
   "outputs": [],
   "source": [
    "import pandas as pd"
   ]
  },
  {
   "cell_type": "code",
   "execution_count": 81,
   "id": "50d781ae",
   "metadata": {},
   "outputs": [],
   "source": [
    "labels = [\"x\", \"y\", \"z\"]\n",
    "my_data = [3, 4, 5]"
   ]
  },
  {
   "cell_type": "code",
   "execution_count": 98,
   "id": "59a7d725",
   "metadata": {},
   "outputs": [],
   "source": [
    "array = np.array(my_data)"
   ]
  },
  {
   "cell_type": "code",
   "execution_count": 99,
   "id": "eb7906e5",
   "metadata": {},
   "outputs": [
    {
     "data": {
      "text/plain": [
       "x    3\n",
       "y    4\n",
       "z    5\n",
       "dtype: int32"
      ]
     },
     "execution_count": 99,
     "metadata": {},
     "output_type": "execute_result"
    }
   ],
   "source": [
    "pd.Series(data = array, index= labels)"
   ]
  },
  {
   "cell_type": "code",
   "execution_count": 91,
   "id": "9304fc42",
   "metadata": {},
   "outputs": [],
   "source": [
    "df = pd.DataFrame(np.random.rand(5, 4), ['A', 'B', 'C', 'D', \"E\"])"
   ]
  },
  {
   "cell_type": "code",
   "execution_count": 92,
   "id": "47400910",
   "metadata": {},
   "outputs": [
    {
     "data": {
      "text/html": [
       "<div>\n",
       "<style scoped>\n",
       "    .dataframe tbody tr th:only-of-type {\n",
       "        vertical-align: middle;\n",
       "    }\n",
       "\n",
       "    .dataframe tbody tr th {\n",
       "        vertical-align: top;\n",
       "    }\n",
       "\n",
       "    .dataframe thead th {\n",
       "        text-align: right;\n",
       "    }\n",
       "</style>\n",
       "<table border=\"1\" class=\"dataframe\">\n",
       "  <thead>\n",
       "    <tr style=\"text-align: right;\">\n",
       "      <th></th>\n",
       "      <th>0</th>\n",
       "      <th>1</th>\n",
       "      <th>2</th>\n",
       "      <th>3</th>\n",
       "    </tr>\n",
       "  </thead>\n",
       "  <tbody>\n",
       "    <tr>\n",
       "      <th>A</th>\n",
       "      <td>0.255285</td>\n",
       "      <td>0.787884</td>\n",
       "      <td>0.218329</td>\n",
       "      <td>0.482651</td>\n",
       "    </tr>\n",
       "    <tr>\n",
       "      <th>B</th>\n",
       "      <td>0.643252</td>\n",
       "      <td>0.525144</td>\n",
       "      <td>0.421084</td>\n",
       "      <td>0.916959</td>\n",
       "    </tr>\n",
       "    <tr>\n",
       "      <th>C</th>\n",
       "      <td>0.292914</td>\n",
       "      <td>0.084000</td>\n",
       "      <td>0.688457</td>\n",
       "      <td>0.713667</td>\n",
       "    </tr>\n",
       "    <tr>\n",
       "      <th>D</th>\n",
       "      <td>0.550077</td>\n",
       "      <td>0.973644</td>\n",
       "      <td>0.286880</td>\n",
       "      <td>0.440177</td>\n",
       "    </tr>\n",
       "    <tr>\n",
       "      <th>E</th>\n",
       "      <td>0.136670</td>\n",
       "      <td>0.771534</td>\n",
       "      <td>0.338179</td>\n",
       "      <td>0.560748</td>\n",
       "    </tr>\n",
       "  </tbody>\n",
       "</table>\n",
       "</div>"
      ],
      "text/plain": [
       "          0         1         2         3\n",
       "A  0.255285  0.787884  0.218329  0.482651\n",
       "B  0.643252  0.525144  0.421084  0.916959\n",
       "C  0.292914  0.084000  0.688457  0.713667\n",
       "D  0.550077  0.973644  0.286880  0.440177\n",
       "E  0.136670  0.771534  0.338179  0.560748"
      ]
     },
     "execution_count": 92,
     "metadata": {},
     "output_type": "execute_result"
    }
   ],
   "source": [
    "df"
   ]
  },
  {
   "cell_type": "code",
   "execution_count": 106,
   "id": "3b2b77ed",
   "metadata": {},
   "outputs": [],
   "source": [
    "df['new'] = df[0] + df[1]"
   ]
  },
  {
   "cell_type": "code",
   "execution_count": 107,
   "id": "1c96dfa0",
   "metadata": {},
   "outputs": [
    {
     "data": {
      "text/html": [
       "<div>\n",
       "<style scoped>\n",
       "    .dataframe tbody tr th:only-of-type {\n",
       "        vertical-align: middle;\n",
       "    }\n",
       "\n",
       "    .dataframe tbody tr th {\n",
       "        vertical-align: top;\n",
       "    }\n",
       "\n",
       "    .dataframe thead th {\n",
       "        text-align: right;\n",
       "    }\n",
       "</style>\n",
       "<table border=\"1\" class=\"dataframe\">\n",
       "  <thead>\n",
       "    <tr style=\"text-align: right;\">\n",
       "      <th></th>\n",
       "      <th>0</th>\n",
       "      <th>1</th>\n",
       "      <th>2</th>\n",
       "      <th>3</th>\n",
       "      <th>new</th>\n",
       "    </tr>\n",
       "  </thead>\n",
       "  <tbody>\n",
       "    <tr>\n",
       "      <th>A</th>\n",
       "      <td>0.255285</td>\n",
       "      <td>0.787884</td>\n",
       "      <td>0.218329</td>\n",
       "      <td>0.482651</td>\n",
       "      <td>1.043169</td>\n",
       "    </tr>\n",
       "    <tr>\n",
       "      <th>B</th>\n",
       "      <td>0.643252</td>\n",
       "      <td>0.525144</td>\n",
       "      <td>0.421084</td>\n",
       "      <td>0.916959</td>\n",
       "      <td>1.168397</td>\n",
       "    </tr>\n",
       "    <tr>\n",
       "      <th>C</th>\n",
       "      <td>0.292914</td>\n",
       "      <td>0.084000</td>\n",
       "      <td>0.688457</td>\n",
       "      <td>0.713667</td>\n",
       "      <td>0.376914</td>\n",
       "    </tr>\n",
       "    <tr>\n",
       "      <th>D</th>\n",
       "      <td>0.550077</td>\n",
       "      <td>0.973644</td>\n",
       "      <td>0.286880</td>\n",
       "      <td>0.440177</td>\n",
       "      <td>1.523721</td>\n",
       "    </tr>\n",
       "    <tr>\n",
       "      <th>E</th>\n",
       "      <td>0.136670</td>\n",
       "      <td>0.771534</td>\n",
       "      <td>0.338179</td>\n",
       "      <td>0.560748</td>\n",
       "      <td>0.908204</td>\n",
       "    </tr>\n",
       "  </tbody>\n",
       "</table>\n",
       "</div>"
      ],
      "text/plain": [
       "          0         1         2         3       new\n",
       "A  0.255285  0.787884  0.218329  0.482651  1.043169\n",
       "B  0.643252  0.525144  0.421084  0.916959  1.168397\n",
       "C  0.292914  0.084000  0.688457  0.713667  0.376914\n",
       "D  0.550077  0.973644  0.286880  0.440177  1.523721\n",
       "E  0.136670  0.771534  0.338179  0.560748  0.908204"
      ]
     },
     "execution_count": 107,
     "metadata": {},
     "output_type": "execute_result"
    }
   ],
   "source": [
    "df"
   ]
  },
  {
   "cell_type": "code",
   "execution_count": 115,
   "id": "a024443c",
   "metadata": {},
   "outputs": [
    {
     "data": {
      "text/html": [
       "<div>\n",
       "<style scoped>\n",
       "    .dataframe tbody tr th:only-of-type {\n",
       "        vertical-align: middle;\n",
       "    }\n",
       "\n",
       "    .dataframe tbody tr th {\n",
       "        vertical-align: top;\n",
       "    }\n",
       "\n",
       "    .dataframe thead th {\n",
       "        text-align: right;\n",
       "    }\n",
       "</style>\n",
       "<table border=\"1\" class=\"dataframe\">\n",
       "  <thead>\n",
       "    <tr style=\"text-align: right;\">\n",
       "      <th></th>\n",
       "      <th>0</th>\n",
       "      <th>1</th>\n",
       "      <th>2</th>\n",
       "      <th>3</th>\n",
       "    </tr>\n",
       "  </thead>\n",
       "  <tbody>\n",
       "    <tr>\n",
       "      <th>A</th>\n",
       "      <td>0.255285</td>\n",
       "      <td>0.787884</td>\n",
       "      <td>0.218329</td>\n",
       "      <td>0.482651</td>\n",
       "    </tr>\n",
       "    <tr>\n",
       "      <th>B</th>\n",
       "      <td>0.643252</td>\n",
       "      <td>0.525144</td>\n",
       "      <td>0.421084</td>\n",
       "      <td>0.916959</td>\n",
       "    </tr>\n",
       "    <tr>\n",
       "      <th>C</th>\n",
       "      <td>0.292914</td>\n",
       "      <td>0.084000</td>\n",
       "      <td>0.688457</td>\n",
       "      <td>0.713667</td>\n",
       "    </tr>\n",
       "    <tr>\n",
       "      <th>D</th>\n",
       "      <td>0.550077</td>\n",
       "      <td>0.973644</td>\n",
       "      <td>0.286880</td>\n",
       "      <td>0.440177</td>\n",
       "    </tr>\n",
       "    <tr>\n",
       "      <th>E</th>\n",
       "      <td>0.136670</td>\n",
       "      <td>0.771534</td>\n",
       "      <td>0.338179</td>\n",
       "      <td>0.560748</td>\n",
       "    </tr>\n",
       "  </tbody>\n",
       "</table>\n",
       "</div>"
      ],
      "text/plain": [
       "          0         1         2         3\n",
       "A  0.255285  0.787884  0.218329  0.482651\n",
       "B  0.643252  0.525144  0.421084  0.916959\n",
       "C  0.292914  0.084000  0.688457  0.713667\n",
       "D  0.550077  0.973644  0.286880  0.440177\n",
       "E  0.136670  0.771534  0.338179  0.560748"
      ]
     },
     "execution_count": 115,
     "metadata": {},
     "output_type": "execute_result"
    }
   ],
   "source": [
    "df.drop(\"new\", axis=1)"
   ]
  },
  {
   "cell_type": "code",
   "execution_count": 109,
   "id": "77983a94",
   "metadata": {},
   "outputs": [
    {
     "data": {
      "text/plain": [
       "0      0.255285\n",
       "1      0.787884\n",
       "2      0.218329\n",
       "3      0.482651\n",
       "new    1.043169\n",
       "Name: A, dtype: float64"
      ]
     },
     "execution_count": 109,
     "metadata": {},
     "output_type": "execute_result"
    }
   ],
   "source": [
    "df.loc['A']"
   ]
  },
  {
   "cell_type": "code",
   "execution_count": 112,
   "id": "a4f307dc",
   "metadata": {},
   "outputs": [
    {
     "data": {
      "text/plain": [
       "0.9169589239617214"
      ]
     },
     "execution_count": 112,
     "metadata": {},
     "output_type": "execute_result"
    }
   ],
   "source": [
    "df.loc[\"B\", 3]"
   ]
  },
  {
   "cell_type": "code",
   "execution_count": 116,
   "id": "96e4ec2a",
   "metadata": {},
   "outputs": [
    {
     "data": {
      "text/html": [
       "<div>\n",
       "<style scoped>\n",
       "    .dataframe tbody tr th:only-of-type {\n",
       "        vertical-align: middle;\n",
       "    }\n",
       "\n",
       "    .dataframe tbody tr th {\n",
       "        vertical-align: top;\n",
       "    }\n",
       "\n",
       "    .dataframe thead th {\n",
       "        text-align: right;\n",
       "    }\n",
       "</style>\n",
       "<table border=\"1\" class=\"dataframe\">\n",
       "  <thead>\n",
       "    <tr style=\"text-align: right;\">\n",
       "      <th></th>\n",
       "      <th>0</th>\n",
       "      <th>1</th>\n",
       "      <th>2</th>\n",
       "      <th>3</th>\n",
       "      <th>new</th>\n",
       "    </tr>\n",
       "  </thead>\n",
       "  <tbody>\n",
       "    <tr>\n",
       "      <th>A</th>\n",
       "      <td>0.255285</td>\n",
       "      <td>0.787884</td>\n",
       "      <td>0.218329</td>\n",
       "      <td>0.482651</td>\n",
       "      <td>1.043169</td>\n",
       "    </tr>\n",
       "    <tr>\n",
       "      <th>B</th>\n",
       "      <td>0.643252</td>\n",
       "      <td>0.525144</td>\n",
       "      <td>0.421084</td>\n",
       "      <td>0.916959</td>\n",
       "      <td>1.168397</td>\n",
       "    </tr>\n",
       "    <tr>\n",
       "      <th>C</th>\n",
       "      <td>0.292914</td>\n",
       "      <td>0.084000</td>\n",
       "      <td>0.688457</td>\n",
       "      <td>0.713667</td>\n",
       "      <td>0.376914</td>\n",
       "    </tr>\n",
       "    <tr>\n",
       "      <th>D</th>\n",
       "      <td>0.550077</td>\n",
       "      <td>0.973644</td>\n",
       "      <td>0.286880</td>\n",
       "      <td>0.440177</td>\n",
       "      <td>1.523721</td>\n",
       "    </tr>\n",
       "    <tr>\n",
       "      <th>E</th>\n",
       "      <td>0.136670</td>\n",
       "      <td>0.771534</td>\n",
       "      <td>0.338179</td>\n",
       "      <td>0.560748</td>\n",
       "      <td>0.908204</td>\n",
       "    </tr>\n",
       "  </tbody>\n",
       "</table>\n",
       "</div>"
      ],
      "text/plain": [
       "          0         1         2         3       new\n",
       "A  0.255285  0.787884  0.218329  0.482651  1.043169\n",
       "B  0.643252  0.525144  0.421084  0.916959  1.168397\n",
       "C  0.292914  0.084000  0.688457  0.713667  0.376914\n",
       "D  0.550077  0.973644  0.286880  0.440177  1.523721\n",
       "E  0.136670  0.771534  0.338179  0.560748  0.908204"
      ]
     },
     "execution_count": 116,
     "metadata": {},
     "output_type": "execute_result"
    }
   ],
   "source": [
    "df"
   ]
  },
  {
   "cell_type": "code",
   "execution_count": 118,
   "id": "6c27656a",
   "metadata": {},
   "outputs": [
    {
     "data": {
      "text/html": [
       "<div>\n",
       "<style scoped>\n",
       "    .dataframe tbody tr th:only-of-type {\n",
       "        vertical-align: middle;\n",
       "    }\n",
       "\n",
       "    .dataframe tbody tr th {\n",
       "        vertical-align: top;\n",
       "    }\n",
       "\n",
       "    .dataframe thead th {\n",
       "        text-align: right;\n",
       "    }\n",
       "</style>\n",
       "<table border=\"1\" class=\"dataframe\">\n",
       "  <thead>\n",
       "    <tr style=\"text-align: right;\">\n",
       "      <th></th>\n",
       "      <th>0</th>\n",
       "      <th>1</th>\n",
       "      <th>2</th>\n",
       "      <th>3</th>\n",
       "      <th>new</th>\n",
       "    </tr>\n",
       "  </thead>\n",
       "  <tbody>\n",
       "    <tr>\n",
       "      <th>A</th>\n",
       "      <td>0.255285</td>\n",
       "      <td>0.787884</td>\n",
       "      <td>0.218329</td>\n",
       "      <td>0.482651</td>\n",
       "      <td>1.043169</td>\n",
       "    </tr>\n",
       "    <tr>\n",
       "      <th>B</th>\n",
       "      <td>0.643252</td>\n",
       "      <td>0.525144</td>\n",
       "      <td>0.421084</td>\n",
       "      <td>0.916959</td>\n",
       "      <td>1.168397</td>\n",
       "    </tr>\n",
       "    <tr>\n",
       "      <th>C</th>\n",
       "      <td>0.292914</td>\n",
       "      <td>0.084000</td>\n",
       "      <td>0.688457</td>\n",
       "      <td>0.713667</td>\n",
       "      <td>0.376914</td>\n",
       "    </tr>\n",
       "    <tr>\n",
       "      <th>D</th>\n",
       "      <td>0.550077</td>\n",
       "      <td>0.973644</td>\n",
       "      <td>0.286880</td>\n",
       "      <td>0.440177</td>\n",
       "      <td>1.523721</td>\n",
       "    </tr>\n",
       "    <tr>\n",
       "      <th>E</th>\n",
       "      <td>0.136670</td>\n",
       "      <td>0.771534</td>\n",
       "      <td>0.338179</td>\n",
       "      <td>0.560748</td>\n",
       "      <td>0.908204</td>\n",
       "    </tr>\n",
       "  </tbody>\n",
       "</table>\n",
       "</div>"
      ],
      "text/plain": [
       "          0         1         2         3       new\n",
       "A  0.255285  0.787884  0.218329  0.482651  1.043169\n",
       "B  0.643252  0.525144  0.421084  0.916959  1.168397\n",
       "C  0.292914  0.084000  0.688457  0.713667  0.376914\n",
       "D  0.550077  0.973644  0.286880  0.440177  1.523721\n",
       "E  0.136670  0.771534  0.338179  0.560748  0.908204"
      ]
     },
     "execution_count": 118,
     "metadata": {},
     "output_type": "execute_result"
    }
   ],
   "source": [
    "df.dropna() # there are no null values so nothing changed. This method removes all rows with null values."
   ]
  },
  {
   "cell_type": "code",
   "execution_count": 119,
   "id": "a18ced56",
   "metadata": {},
   "outputs": [
    {
     "data": {
      "text/html": [
       "<div>\n",
       "<style scoped>\n",
       "    .dataframe tbody tr th:only-of-type {\n",
       "        vertical-align: middle;\n",
       "    }\n",
       "\n",
       "    .dataframe tbody tr th {\n",
       "        vertical-align: top;\n",
       "    }\n",
       "\n",
       "    .dataframe thead th {\n",
       "        text-align: right;\n",
       "    }\n",
       "</style>\n",
       "<table border=\"1\" class=\"dataframe\">\n",
       "  <thead>\n",
       "    <tr style=\"text-align: right;\">\n",
       "      <th></th>\n",
       "      <th>0</th>\n",
       "      <th>1</th>\n",
       "      <th>2</th>\n",
       "      <th>3</th>\n",
       "      <th>new</th>\n",
       "    </tr>\n",
       "  </thead>\n",
       "  <tbody>\n",
       "    <tr>\n",
       "      <th>A</th>\n",
       "      <td>0.255285</td>\n",
       "      <td>0.787884</td>\n",
       "      <td>0.218329</td>\n",
       "      <td>0.482651</td>\n",
       "      <td>1.043169</td>\n",
       "    </tr>\n",
       "    <tr>\n",
       "      <th>B</th>\n",
       "      <td>0.643252</td>\n",
       "      <td>0.525144</td>\n",
       "      <td>0.421084</td>\n",
       "      <td>0.916959</td>\n",
       "      <td>1.168397</td>\n",
       "    </tr>\n",
       "    <tr>\n",
       "      <th>C</th>\n",
       "      <td>0.292914</td>\n",
       "      <td>0.084000</td>\n",
       "      <td>0.688457</td>\n",
       "      <td>0.713667</td>\n",
       "      <td>0.376914</td>\n",
       "    </tr>\n",
       "    <tr>\n",
       "      <th>D</th>\n",
       "      <td>0.550077</td>\n",
       "      <td>0.973644</td>\n",
       "      <td>0.286880</td>\n",
       "      <td>0.440177</td>\n",
       "      <td>1.523721</td>\n",
       "    </tr>\n",
       "    <tr>\n",
       "      <th>E</th>\n",
       "      <td>0.136670</td>\n",
       "      <td>0.771534</td>\n",
       "      <td>0.338179</td>\n",
       "      <td>0.560748</td>\n",
       "      <td>0.908204</td>\n",
       "    </tr>\n",
       "  </tbody>\n",
       "</table>\n",
       "</div>"
      ],
      "text/plain": [
       "          0         1         2         3       new\n",
       "A  0.255285  0.787884  0.218329  0.482651  1.043169\n",
       "B  0.643252  0.525144  0.421084  0.916959  1.168397\n",
       "C  0.292914  0.084000  0.688457  0.713667  0.376914\n",
       "D  0.550077  0.973644  0.286880  0.440177  1.523721\n",
       "E  0.136670  0.771534  0.338179  0.560748  0.908204"
      ]
     },
     "execution_count": 119,
     "metadata": {},
     "output_type": "execute_result"
    }
   ],
   "source": [
    "df.fillna(1) # there are no null values so nothing changed. This method will replace null values with the passed parameter."
   ]
  },
  {
   "cell_type": "code",
   "execution_count": 122,
   "id": "c1318618",
   "metadata": {},
   "outputs": [],
   "source": [
    "Snow = pd.read_csv(\"SnowDayData.csv\") # IMPORTANT: remember to use tab to auto-complete!"
   ]
  },
  {
   "cell_type": "code",
   "execution_count": 125,
   "id": "e1e3ae0f",
   "metadata": {},
   "outputs": [
    {
     "data": {
      "text/html": [
       "<div>\n",
       "<style scoped>\n",
       "    .dataframe tbody tr th:only-of-type {\n",
       "        vertical-align: middle;\n",
       "    }\n",
       "\n",
       "    .dataframe tbody tr th {\n",
       "        vertical-align: top;\n",
       "    }\n",
       "\n",
       "    .dataframe thead th {\n",
       "        text-align: right;\n",
       "    }\n",
       "</style>\n",
       "<table border=\"1\" class=\"dataframe\">\n",
       "  <thead>\n",
       "    <tr style=\"text-align: right;\">\n",
       "      <th></th>\n",
       "      <th>Date</th>\n",
       "      <th>Maximum</th>\n",
       "      <th>Minimum</th>\n",
       "      <th>Average</th>\n",
       "      <th>Departure</th>\n",
       "      <th>HDD</th>\n",
       "      <th>CDD</th>\n",
       "      <th>Percipitation</th>\n",
       "      <th>New Snow</th>\n",
       "      <th>Snow Depth</th>\n",
       "      <th>Snow Day</th>\n",
       "    </tr>\n",
       "  </thead>\n",
       "  <tbody>\n",
       "    <tr>\n",
       "      <th>0</th>\n",
       "      <td>2023-01-01</td>\n",
       "      <td>49</td>\n",
       "      <td>41</td>\n",
       "      <td>45.0</td>\n",
       "      <td>14.0</td>\n",
       "      <td>20</td>\n",
       "      <td>0</td>\n",
       "      <td>0.28</td>\n",
       "      <td>0.0</td>\n",
       "      <td>0.0</td>\n",
       "      <td>0</td>\n",
       "    </tr>\n",
       "    <tr>\n",
       "      <th>1</th>\n",
       "      <td>2023-01-02</td>\n",
       "      <td>51</td>\n",
       "      <td>34</td>\n",
       "      <td>42.5</td>\n",
       "      <td>11.7</td>\n",
       "      <td>22</td>\n",
       "      <td>0</td>\n",
       "      <td>0.00</td>\n",
       "      <td>0.0</td>\n",
       "      <td>0.0</td>\n",
       "      <td>0</td>\n",
       "    </tr>\n",
       "    <tr>\n",
       "      <th>2</th>\n",
       "      <td>2023-01-03</td>\n",
       "      <td>53</td>\n",
       "      <td>35</td>\n",
       "      <td>44.0</td>\n",
       "      <td>13.4</td>\n",
       "      <td>21</td>\n",
       "      <td>0</td>\n",
       "      <td>0.03</td>\n",
       "      <td>0.0</td>\n",
       "      <td>0.0</td>\n",
       "      <td>0</td>\n",
       "    </tr>\n",
       "  </tbody>\n",
       "</table>\n",
       "</div>"
      ],
      "text/plain": [
       "         Date  Maximum  Minimum  Average  Departure  HDD  CDD  Percipitation  \\\n",
       "0  2023-01-01       49       41     45.0       14.0   20    0           0.28   \n",
       "1  2023-01-02       51       34     42.5       11.7   22    0           0.00   \n",
       "2  2023-01-03       53       35     44.0       13.4   21    0           0.03   \n",
       "\n",
       "   New Snow  Snow Depth  Snow Day  \n",
       "0       0.0         0.0         0  \n",
       "1       0.0         0.0         0  \n",
       "2       0.0         0.0         0  "
      ]
     },
     "execution_count": 125,
     "metadata": {},
     "output_type": "execute_result"
    }
   ],
   "source": [
    "Snow.head(3)"
   ]
  },
  {
   "cell_type": "code",
   "execution_count": 128,
   "id": "79ecbe42",
   "metadata": {},
   "outputs": [
    {
     "data": {
      "text/plain": [
       "array(['2023-01-01', '2023-01-02', '2023-01-03', '2023-01-04',\n",
       "       '2023-01-05', '2023-01-06', '2023-01-07', '2023-01-08',\n",
       "       '2023-01-09', '2023-01-10', '2023-01-11', '2023-01-12',\n",
       "       '2023-01-13', '2023-01-14', '2023-01-15', '2023-01-16',\n",
       "       '2023-01-17', '2023-01-18', '2023-01-19', '2023-01-20',\n",
       "       '2023-01-21', '2023-01-22', '2023-01-23', '2023-01-24',\n",
       "       '2023-01-25', '2023-01-26', '2023-01-27', '2023-01-28',\n",
       "       '2023-01-29', '2023-01-30', '2023-01-31', '2022-01-01',\n",
       "       '2022-01-02', '2022-01-03', '2022-01-04', '2022-01-05',\n",
       "       '2022-01-06', '2022-01-07', '2022-01-08', '2022-01-09',\n",
       "       '2022-01-10', '2022-01-11', '2022-01-12', '2022-01-13',\n",
       "       '2022-01-14', '2022-01-15', '2022-01-16', '2022-01-17',\n",
       "       '2022-01-18', '2022-01-19', '2022-01-20', '2022-01-21',\n",
       "       '2022-01-22', '2022-01-23', '2022-01-24', '2022-01-25',\n",
       "       '2022-01-26', '2022-01-27', '2022-01-28', '2022-01-29',\n",
       "       '2022-01-30', '2022-01-31', '2022-12-01', '2022-12-02',\n",
       "       '2022-12-03', '2022-12-04', '2022-12-05', '2022-12-06',\n",
       "       '2022-12-07', '2022-12-08', '2022-12-09', '2022-12-10',\n",
       "       '2022-12-11', '2022-12-12', '2022-12-13', '2022-12-14',\n",
       "       '2022-12-15', '2022-12-16', '2022-12-17', '2022-12-18',\n",
       "       '2022-12-19', '2022-12-20', '2022-12-21', '2022-12-22',\n",
       "       '2022-12-23', '2022-12-24', '2022-12-25', '2022-12-26',\n",
       "       '2022-12-27', '2022-12-28', '2022-12-29', '2022-12-30',\n",
       "       '2022-12-31'], dtype=object)"
      ]
     },
     "execution_count": 128,
     "metadata": {},
     "output_type": "execute_result"
    }
   ],
   "source": [
    "Snow[\"Date\"].unique() # returns numpy array of all unique values in pandas Series"
   ]
  },
  {
   "cell_type": "code",
   "execution_count": 129,
   "id": "f8ce8eb8",
   "metadata": {},
   "outputs": [
    {
     "data": {
      "text/plain": [
       "93"
      ]
     },
     "execution_count": 129,
     "metadata": {},
     "output_type": "execute_result"
    }
   ],
   "source": [
    "Snow[\"Date\"].nunique() # returns number of unique values in pandas Series"
   ]
  },
  {
   "cell_type": "code",
   "execution_count": 131,
   "id": "cf9caf38",
   "metadata": {},
   "outputs": [
    {
     "data": {
      "text/plain": [
       "0.0    84\n",
       "1.0     3\n",
       "4.0     2\n",
       "0.1     1\n",
       "0.3     1\n",
       "0.8     1\n",
       "2.0     1\n",
       "Name: Snow Depth, dtype: int64"
      ]
     },
     "execution_count": 131,
     "metadata": {},
     "output_type": "execute_result"
    }
   ],
   "source": [
    "Snow[\"Snow Depth\"].value_counts() # the number of times each unique value appears in the column"
   ]
  }
 ],
 "metadata": {
  "kernelspec": {
   "display_name": "Python 3 (ipykernel)",
   "language": "python",
   "name": "python3"
  },
  "language_info": {
   "codemirror_mode": {
    "name": "ipython",
    "version": 3
   },
   "file_extension": ".py",
   "mimetype": "text/x-python",
   "name": "python",
   "nbconvert_exporter": "python",
   "pygments_lexer": "ipython3",
   "version": "3.9.12"
  }
 },
 "nbformat": 4,
 "nbformat_minor": 5
}
